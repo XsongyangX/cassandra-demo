{
 "cells": [
  {
   "cell_type": "markdown",
   "metadata": {},
   "source": [
    "# Player Session Insights\n",
    "* Use jupyter notebook and spark to support your answers.\n",
    "* How many sessions are in the dataset?\n",
    "* How many sessions are completed per country?\n",
    "* How many sessions are completed per player?\n",
    "* What is the country with more sessions started during 2018?\n",
    "* Plot the player sessions completed per country"
   ]
  },
  {
   "cell_type": "markdown",
   "metadata": {},
   "source": [
    "## Gather the dataset\n",
    "https://cdn.unityads.unity3d.com/assignments/assignment_data.jsonl.bz2 (30-40 MB)"
   ]
  },
  {
   "cell_type": "code",
   "execution_count": 4,
   "metadata": {},
   "outputs": [],
   "source": [
    "from pyspark.context import SparkContext\n",
    "from pyspark.sql.session import SparkSession\n",
    "sc = SparkContext('local')\n",
    "spark = SparkSession(sc)"
   ]
  },
  {
   "cell_type": "code",
   "execution_count": 7,
   "metadata": {},
   "outputs": [],
   "source": [
    "# I downloaded the json file\n",
    "df = spark.read.json('assignment_data.jsonl.bz2')"
   ]
  },
  {
   "cell_type": "code",
   "execution_count": 19,
   "metadata": {},
   "outputs": [
    {
     "name": "stdout",
     "output_type": "stream",
     "text": [
      "root\n",
      " |-- country: string (nullable = true)\n",
      " |-- event: string (nullable = true)\n",
      " |-- player_id: string (nullable = true)\n",
      " |-- session_id: string (nullable = true)\n",
      " |-- ts: string (nullable = true)\n",
      "\n",
      "[Row(country='PK', event='start', player_id='d6313e1fb7d247a6a034e2aadc30ab3f', session_id='674606b1-2270-4285-928f-eef4a6b90a60', ts='2016-11-22T20:40:50'), Row(country=None, event='end', player_id='20ac16ebb30a477087c3c7501b1fce73', session_id='16ca9d01-d240-4527-9f8f-00ef6cddb1d4', ts='2016-11-18T06:24:50')]\n",
      "+-------+-------+-------+--------------------+--------------------+-------------------+\n",
      "|summary|country|  event|           player_id|          session_id|                 ts|\n",
      "+-------+-------+-------+--------------------+--------------------+-------------------+\n",
      "|  count| 500584|1001169|             1001169|             1001169|            1001169|\n",
      "|   mean|   null|   null|                null|                null|               null|\n",
      "| stddev|   null|   null|                null|                null|               null|\n",
      "|    min|  (.uk)|    end|0001c73df0b1453f8...|00000934-5c74-4c1...|2016-10-20T23:40:38|\n",
      "|    max|     ZW|  start|fffa8453b36f4c038...|ffffb31f-de89-46a...|2016-12-02T16:34:40|\n",
      "+-------+-------+-------+--------------------+--------------------+-------------------+\n",
      "\n"
     ]
    }
   ],
   "source": [
    "# examine basic structure\n",
    "if not df.is_cached:\n",
    "    df.cache()\n",
    "df.printSchema()\n",
    "print(df.head(2))\n",
    "df.describe().show()"
   ]
  },
  {
   "cell_type": "markdown",
   "metadata": {},
   "source": [
    "## Getting insight\n",
    "* How many sessions are in the dataset? 1001169 sessions"
   ]
  },
  {
   "cell_type": "code",
   "execution_count": 18,
   "metadata": {},
   "outputs": [
    {
     "data": {
      "text/plain": [
       "1001169"
      ]
     },
     "execution_count": 18,
     "metadata": {},
     "output_type": "execute_result"
    }
   ],
   "source": [
    "df.count()"
   ]
  },
  {
   "cell_type": "markdown",
   "metadata": {},
   "source": [
    "* How many sessions are completed per country?"
   ]
  },
  {
   "cell_type": "code",
   "execution_count": 118,
   "metadata": {},
   "outputs": [
    {
     "name": "stdout",
     "output_type": "stream",
     "text": [
      "+-----------------+-------+\n",
      "|count(session_id)|country|\n",
      "+-----------------+-------+\n",
      "|             2839|     IT|\n",
      "|             2672|     SH|\n",
      "|             2670|     AZ|\n",
      "|             2655|     AT|\n",
      "|             2616|     WF|\n",
      "|             2602|     VA|\n",
      "|             2584|     HU|\n",
      "|             2561|     IL|\n",
      "|             2549|     RO|\n",
      "|             2535|     KR|\n",
      "|             2532|     SR|\n",
      "|             2521|     TO|\n",
      "|             2515|     MD|\n",
      "|             2475|     LS|\n",
      "|             2461|     NO|\n",
      "|             2440|     DE|\n",
      "|             2433|     TF|\n",
      "|             2431|     EG|\n",
      "|             2422|     CD|\n",
      "|             2413|     GS|\n",
      "+-----------------+-------+\n",
      "only showing top 20 rows\n",
      "\n"
     ]
    }
   ],
   "source": [
    "# use sql, create a sql table from the dataframe\n",
    "df.createOrReplaceTempView(\"df_table\")\n",
    "spark.sql(\"\"\"\n",
    "    SELECT COUNT(start.session_id), start.country\n",
    "    FROM df_table start\n",
    "    JOIN df_table end\n",
    "        ON start.event <> end.event\n",
    "        AND start.session_id = end.session_id\n",
    "        AND start.ts < end.ts\n",
    "    GROUP BY start.country\n",
    "    ORDER BY COUNT(start.session_id) DESC\n",
    "\"\"\").show()"
   ]
  },
  {
   "cell_type": "markdown",
   "metadata": {},
   "source": [
    "* How many sessions are completed per player?"
   ]
  },
  {
   "cell_type": "code",
   "execution_count": null,
   "metadata": {},
   "outputs": [],
   "source": [
    "spark.sql(\"\"\"\n",
    "    SELECT start.session_id, start.player_id\n",
    "    FROM df_table start\n",
    "    JOIN df_table end\n",
    "        ON start.session_id = end.session_id\n",
    "    WHERE start.ts < end.ts\n",
    "        AND start.event <> end.event\n",
    "\"\"\").groupBy(df.player_id).count().show()"
   ]
  },
  {
   "cell_type": "markdown",
   "metadata": {},
   "source": [
    "* What is the country with more sessions started during 2018?"
   ]
  },
  {
   "cell_type": "code",
   "execution_count": null,
   "metadata": {},
   "outputs": [],
   "source": []
  }
 ],
 "metadata": {
  "language_info": {
   "codemirror_mode": {
    "name": "ipython",
    "version": 3
   },
   "file_extension": ".py",
   "mimetype": "text/x-python",
   "name": "python",
   "nbconvert_exporter": "python",
   "pygments_lexer": "ipython3",
   "version": "3.7.5"
  }
 },
 "nbformat": 4,
 "nbformat_minor": 2
}
