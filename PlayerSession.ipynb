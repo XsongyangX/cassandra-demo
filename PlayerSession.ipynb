{
 "cells": [
  {
   "cell_type": "markdown",
   "metadata": {},
   "source": [
    "# Player Session Insights\n",
    "* Use jupyter notebook and spark to support your answers.\n",
    "* How many sessions are in the dataset?\n",
    "* How many sessions are completed per country?\n",
    "* How many sessions are completed per player?\n",
    "* What is the country with more sessions started during 2018?\n",
    "* Plot the player sessions completed per country"
   ]
  },
  {
   "cell_type": "markdown",
   "metadata": {},
   "source": [
    "## Gather the dataset\n",
    "https://cdn.unityads.unity3d.com/assignments/assignment_data.jsonl.bz2 (30-40 MB)"
   ]
  },
  {
   "cell_type": "code",
   "execution_count": 1,
   "metadata": {},
   "outputs": [],
   "source": [
    "from pyspark.context import SparkContext\n",
    "from pyspark.sql.session import SparkSession\n",
    "sc = SparkContext('local')\n",
    "spark = SparkSession(sc)"
   ]
  },
  {
   "cell_type": "code",
   "execution_count": 2,
   "metadata": {},
   "outputs": [],
   "source": [
    "# I downloaded the json file\n",
    "df = spark.read.json('assignment_data.jsonl.bz2')"
   ]
  },
  {
   "cell_type": "code",
   "execution_count": 3,
   "metadata": {},
   "outputs": [
    {
     "name": "stdout",
     "output_type": "stream",
     "text": [
      "root\n",
      " |-- country: string (nullable = true)\n",
      " |-- event: string (nullable = true)\n",
      " |-- player_id: string (nullable = true)\n",
      " |-- session_id: string (nullable = true)\n",
      " |-- ts: string (nullable = true)\n",
      "\n",
      "Row(country='PK', event='start', player_id='d6313e1fb7d247a6a034e2aadc30ab3f', session_id='674606b1-2270-4285-928f-eef4a6b90a60', ts='2016-11-22T20:40:50')\n",
      "+-------+-------+-------+--------------------+--------------------+-------------------+\n",
      "|summary|country|  event|           player_id|          session_id|                 ts|\n",
      "+-------+-------+-------+--------------------+--------------------+-------------------+\n",
      "|  count| 500584|1001169|             1001169|             1001169|            1001169|\n",
      "|   mean|   null|   null|                null|                null|               null|\n",
      "| stddev|   null|   null|                null|                null|               null|\n",
      "|    min|  (.uk)|    end|0001c73df0b1453f8...|00000934-5c74-4c1...|2016-10-20T23:40:38|\n",
      "|    max|     ZW|  start|fffa8453b36f4c038...|ffffb31f-de89-46a...|2016-12-02T16:34:40|\n",
      "+-------+-------+-------+--------------------+--------------------+-------------------+\n",
      "\n"
     ]
    }
   ],
   "source": [
    "# examine basic structure\n",
    "if not df.is_cached:\n",
    "    df.cache()\n",
    "df.printSchema()\n",
    "print(df.first())\n",
    "df.describe().show()"
   ]
  },
  {
   "cell_type": "markdown",
   "metadata": {},
   "source": [
    "## Getting insight\n",
    "* How many sessions are in the dataset? 1001169 sessions"
   ]
  },
  {
   "cell_type": "code",
   "execution_count": 4,
   "metadata": {},
   "outputs": [
    {
     "data": {
      "text/plain": [
       "1001169"
      ]
     },
     "execution_count": 4,
     "metadata": {},
     "output_type": "execute_result"
    }
   ],
   "source": [
    "df.count()"
   ]
  },
  {
   "cell_type": "markdown",
   "metadata": {},
   "source": [
    "* How many sessions are completed per country?"
   ]
  },
  {
   "cell_type": "code",
   "execution_count": 5,
   "metadata": {
    "collapsed": true
   },
   "outputs": [
    {
     "ename": "AttributeError",
     "evalue": "'list' object has no attribute 'show'",
     "output_type": "error",
     "traceback": [
      "\u001b[1;31m---------------------------------------------------------------------------\u001b[0m",
      "\u001b[1;31mAttributeError\u001b[0m                            Traceback (most recent call last)",
      "\u001b[1;32m<ipython-input-5-a2e12479c95c>\u001b[0m in \u001b[0;36m<module>\u001b[1;34m\u001b[0m\n\u001b[0;32m     12\u001b[0m     \u001b[0mLIMIT\u001b[0m \u001b[1;36m10\u001b[0m\u001b[1;33m\u001b[0m\u001b[1;33m\u001b[0m\u001b[0m\n\u001b[0;32m     13\u001b[0m \"\"\").collect()\n\u001b[1;32m---> 14\u001b[1;33m \u001b[0mcompletedSessions\u001b[0m\u001b[1;33m.\u001b[0m\u001b[0mshow\u001b[0m\u001b[1;33m(\u001b[0m\u001b[1;33m)\u001b[0m\u001b[1;33m\u001b[0m\u001b[1;33m\u001b[0m\u001b[0m\n\u001b[0m",
      "\u001b[1;31mAttributeError\u001b[0m: 'list' object has no attribute 'show'"
     ]
    }
   ],
   "source": [
    "# use sql, create a sql table from the dataframe\n",
    "df.createOrReplaceTempView(\"df_table\")\n",
    "completedSessions = spark.sql(\"\"\"\n",
    "    SELECT COUNT(start.session_id), start.country\n",
    "    FROM df_table start\n",
    "    JOIN df_table end\n",
    "        ON start.event <> end.event\n",
    "        AND start.session_id = end.session_id\n",
    "        AND start.ts < end.ts\n",
    "    GROUP BY start.country\n",
    "    ORDER BY COUNT(start.session_id) DESC\n",
    "    LIMIT 10\n",
    "\"\"\").collect()"
   ]
  },
  {
   "cell_type": "code",
   "execution_count": 18,
   "metadata": {
    "scrolled": true
   },
   "outputs": [
    {
     "name": "stdout",
     "output_type": "stream",
     "text": [
      "+-----------------+-------+\n",
      "|count(session_id)|country|\n",
      "+-----------------+-------+\n",
      "|             2839|     IT|\n",
      "|             2672|     SH|\n",
      "|             2670|     AZ|\n",
      "|             2655|     AT|\n",
      "|             2616|     WF|\n",
      "|             2602|     VA|\n",
      "|             2584|     HU|\n",
      "|             2561|     IL|\n",
      "|             2549|     RO|\n",
      "|             2535|     KR|\n",
      "+-----------------+-------+\n",
      "\n"
     ]
    }
   ],
   "source": [
    "try:\n",
    "    completedSessions = spark.createDataFrame(completedSessions)\n",
    "except TypeError: # already created\n",
    "    pass\n",
    "completedSessions.show()"
   ]
  },
  {
   "cell_type": "markdown",
   "metadata": {},
   "source": [
    "* How many sessions are completed per player?"
   ]
  },
  {
   "cell_type": "code",
   "execution_count": 20,
   "metadata": {},
   "outputs": [
    {
     "name": "stdout",
     "output_type": "stream",
     "text": [
      "+-----------------+--------------------+\n",
      "|count(session_id)|           player_id|\n",
      "+-----------------+--------------------+\n",
      "|               50|8982e790fad04f18a...|\n",
      "|               50|24bd8188b2d241e88...|\n",
      "|               50|908af531441641dc9...|\n",
      "|               50|5534f125269940e29...|\n",
      "|               50|fd9a7f6f335745fdb...|\n",
      "|               50|e8f36a8efded42bfb...|\n",
      "|               50|8500e7ecc46c414e9...|\n",
      "|               50|b0c7f160b7834a25a...|\n",
      "|               50|dcb42f3696004708a...|\n",
      "|               50|e53d1cb155a548b3b...|\n",
      "+-----------------+--------------------+\n",
      "\n"
     ]
    }
   ],
   "source": [
    "spark.sql(\"\"\"\n",
    "    SELECT COUNT(start.session_id), start.player_id\n",
    "    FROM df_table start\n",
    "    JOIN df_table end\n",
    "        ON start.session_id = end.session_id\n",
    "    WHERE start.ts < end.ts\n",
    "        AND start.event <> end.event\n",
    "    GROUP BY start.player_id\n",
    "    ORDER BY COUNT(start.session_id) DESC\n",
    "    LIMIT 10\n",
    "\"\"\").show()"
   ]
  },
  {
   "cell_type": "markdown",
   "metadata": {},
   "source": [
    "* What is the country with more sessions started during 2018? There is no session started in 2018 in this dataset."
   ]
  },
  {
   "cell_type": "code",
   "execution_count": 21,
   "metadata": {},
   "outputs": [
    {
     "name": "stdout",
     "output_type": "stream",
     "text": [
      "+----------+-------+\n",
      "|session_id|country|\n",
      "+----------+-------+\n",
      "+----------+-------+\n",
      "\n"
     ]
    }
   ],
   "source": [
    "spark.sql(\"\"\"\n",
    "    SELECT session_id, country\n",
    "    FROM df_table\n",
    "    WHERE ts BETWEEN '2018-01-01' AND '2018-12-31'\n",
    "        AND event='start'\n",
    "\"\"\").show()"
   ]
  },
  {
   "cell_type": "markdown",
   "metadata": {},
   "source": [
    "* Plot the player sessions completed per country"
   ]
  },
  {
   "cell_type": "code",
   "execution_count": 19,
   "metadata": {},
   "outputs": [
    {
     "data": {
      "image/png": "[encoded data removed]",
      "text/plain": [
       "<Figure size 432x288 with 1 Axes>"
      ]
     },
     "metadata": {
      "needs_background": "light"
     },
     "output_type": "display_data"
    }
   ],
   "source": [
    "import matplotlib.pyplot as plt\n",
    "import numpy as np\n",
    "import pandas as pd\n",
    "\n",
    "# previous query result is in completedSessions\n",
    "numSessions = completedSessions.toPandas()\n",
    "\n",
    "x = np.arange(len(numSessions['count(session_id)']))\n",
    "plt.bar(x, numSessions['count(session_id)'])\n",
    "plt.xticks(x, numSessions['country'])\n",
    "plt.show()"
   ]
  },
  {
   "cell_type": "code",
   "execution_count": null,
   "metadata": {},
   "outputs": [],
   "source": []
  }
 ],
 "metadata": {
  "language_info": {
   "codemirror_mode": {
    "name": "ipython",
    "version": 3
   },
   "file_extension": ".py",
   "mimetype": "text/x-python",
   "name": "python",
   "nbconvert_exporter": "python",
   "pygments_lexer": "ipython3",
   "version": "3.7.5"
  }
 },
 "nbformat": 4,
 "nbformat_minor": 2
}
