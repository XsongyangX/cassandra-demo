{
 "cells": [
  {
   "cell_type": "markdown",
   "metadata": {},
   "source": [
    "# Player Session Insights\n",
    "* Use jupyter notebook and spark to support your answers.\n",
    "* How many sessions are in the dataset?\n",
    "* How many sessions are completed per country?\n",
    "* How many sessions are completed per player?\n",
    "* What is the country with more sessions started during 2018?\n",
    "* Plot the player sessions completed per country"
   ]
  },
  {
   "cell_type": "markdown",
   "metadata": {},
   "source": [
    "## Gather the dataset\n",
    "https://cdn.unityads.unity3d.com/assignments/assignment_data.jsonl.bz2 (30-40 MB)"
   ]
  },
  {
   "cell_type": "code",
   "execution_count": 4,
   "metadata": {},
   "outputs": [],
   "source": [
    "from pyspark.context import SparkContext\n",
    "from pyspark.sql.session import SparkSession\n",
    "sc = SparkContext('local')\n",
    "spark = SparkSession(sc)"
   ]
  },
  {
   "cell_type": "code",
   "execution_count": 7,
   "metadata": {},
   "outputs": [],
   "source": [
    "# I downloaded the json file\n",
    "df = spark.read.json('assignment_data.jsonl.bz2')"
   ]
  },
  {
   "cell_type": "code",
   "execution_count": 11,
   "metadata": {},
   "outputs": [
    {
     "name": "stdout",
     "output_type": "stream",
     "text": [
      "root\n",
      " |-- country: string (nullable = true)\n",
      " |-- event: string (nullable = true)\n",
      " |-- player_id: string (nullable = true)\n",
      " |-- session_id: string (nullable = true)\n",
      " |-- ts: string (nullable = true)\n",
      "\n",
      "[Row(country='PK', event='start', player_id='d6313e1fb7d247a6a034e2aadc30ab3f', session_id='674606b1-2270-4285-928f-eef4a6b90a60', ts='2016-11-22T20:40:50'), Row(country=None, event='end', player_id='20ac16ebb30a477087c3c7501b1fce73', session_id='16ca9d01-d240-4527-9f8f-00ef6cddb1d4', ts='2016-11-18T06:24:50')]\n"
     ]
    }
   ],
   "source": [
    "# examine basic structure\n",
    "df.is_cached()\n",
    "df.printSchema()\n",
    "print(df.head(2))"
   ]
  },
  {
   "cell_type": "markdown",
   "metadata": {},
   "source": [
    "## Getting insight\n",
    "* How many sessions are in the dataset? 1001169 sessions"
   ]
  },
  {
   "cell_type": "code",
   "execution_count": 12,
   "metadata": {},
   "outputs": [
    {
     "data": {
      "text/plain": [
       "1001169"
      ]
     },
     "execution_count": 12,
     "metadata": {},
     "output_type": "execute_result"
    }
   ],
   "source": [
    "df.count()"
   ]
  },
  {
   "cell_type": "code",
   "execution_count": null,
   "metadata": {},
   "outputs": [],
   "source": []
  }
 ],
 "metadata": {
  "language_info": {
   "codemirror_mode": {
    "name": "ipython",
    "version": 3
   },
   "file_extension": ".py",
   "mimetype": "text/x-python",
   "name": "python",
   "nbconvert_exporter": "python",
   "pygments_lexer": "ipython3",
   "version": "3.7.5"
  }
 },
 "nbformat": 4,
 "nbformat_minor": 2
}
