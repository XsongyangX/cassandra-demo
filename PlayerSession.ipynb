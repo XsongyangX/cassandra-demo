{
 "cells": [
  {
   "cell_type": "markdown",
   "metadata": {},
   "source": [
    "# Player Session Insights\n",
    "* Use jupyter notebook and spark to support your answers.\n",
    "* How many sessions are in the dataset?\n",
    "* How many sessions are completed per country?\n",
    "* How many sessions are completed per player?\n",
    "* What is the country with more sessions started during 2018?\n",
    "* Plot the player sessions completed per country"
   ]
  },
  {
   "cell_type": "code",
   "execution_count": null,
   "metadata": {},
   "outputs": [],
   "source": []
  }
 ],
 "metadata": {},
 "nbformat": 4,
 "nbformat_minor": 2
}
